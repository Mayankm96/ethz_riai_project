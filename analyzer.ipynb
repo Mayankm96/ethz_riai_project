{
 "cells": [
  {
   "cell_type": "code",
   "execution_count": 1,
   "metadata": {},
   "outputs": [],
   "source": [
    "import sys\n",
    "sys.path.insert(0, '../ELINA/python_interface/')\n",
    "\n",
    "import numpy as np\n",
    "import re\n",
    "import csv\n",
    "from elina_box import *\n",
    "from elina_interval import *\n",
    "from elina_abstract0 import *\n",
    "from elina_manager import *\n",
    "from elina_dimension import *\n",
    "from elina_scalar import *\n",
    "from elina_interval import *\n",
    "from elina_linexpr0 import *\n",
    "from elina_lincons0 import *\n",
    "import ctypes\n",
    "from ctypes.util import find_library\n",
    "from gurobipy import *\n",
    "import time\n",
    "from pprint import pprint\n",
    "import copy"
   ]
  },
  {
   "cell_type": "code",
   "execution_count": 2,
   "metadata": {},
   "outputs": [],
   "source": [
    "# Import for debugging in jupyter notebook\n",
    "from IPython.core.debugger import set_trace #TODO remove at end."
   ]
  },
  {
   "cell_type": "code",
   "execution_count": 3,
   "metadata": {},
   "outputs": [],
   "source": [
    "libc = CDLL(find_library('c'))\n",
    "cstdout = c_void_p.in_dll(libc, 'stdout')"
   ]
  },
  {
   "cell_type": "code",
   "execution_count": 4,
   "metadata": {},
   "outputs": [],
   "source": [
    "class layers:\n",
    "    def __init__(self):\n",
    "        self.layertypes = []\n",
    "        self.weights = []\n",
    "        self.biases = []\n",
    "        self.numlayer = 0\n",
    "        self.ffn_counter = 0\n",
    "        self.rank = []\n",
    "        self.use_LP = []"
   ]
  },
  {
   "cell_type": "code",
   "execution_count": 5,
   "metadata": {},
   "outputs": [],
   "source": [
    "def parse_bias(text):\n",
    "    if len(text) < 1 or text[0] != '[':\n",
    "        raise Exception(\"expected '['\")\n",
    "    if text[-1] != ']':\n",
    "        raise Exception(\"expected ']'\")\n",
    "    v = np.array([*map(lambda x: np.double(x.strip()), text[1:-1].split(','))])\n",
    "    #return v.reshape((v.size,1))\n",
    "    return v"
   ]
  },
  {
   "cell_type": "code",
   "execution_count": 6,
   "metadata": {},
   "outputs": [],
   "source": [
    "def parse_vector(text):\n",
    "    if len(text) < 1 or text[0] != '[':\n",
    "        raise Exception(\"expected '['\")\n",
    "    if text[-1] != ']':\n",
    "        raise Exception(\"expected ']'\")\n",
    "    v = np.array([*map(lambda x: np.double(x.strip()), text[1:-1].split(','))])\n",
    "    return v.reshape((v.size,1))\n",
    "    #return v"
   ]
  },
  {
   "cell_type": "code",
   "execution_count": 7,
   "metadata": {},
   "outputs": [],
   "source": [
    "def balanced_split(text):\n",
    "    i = 0\n",
    "    bal = 0\n",
    "    start = 0\n",
    "    result = []\n",
    "    while i < len(text):\n",
    "        if text[i] == '[':\n",
    "            bal += 1\n",
    "        elif text[i] == ']':\n",
    "            bal -= 1\n",
    "        elif text[i] == ',' and bal == 0:\n",
    "            result.append(text[start:i])\n",
    "            start = i+1\n",
    "        i += 1\n",
    "    if start < i:\n",
    "        result.append(text[start:i])\n",
    "    return result"
   ]
  },
  {
   "cell_type": "code",
   "execution_count": 8,
   "metadata": {},
   "outputs": [],
   "source": [
    "def parse_matrix(text):\n",
    "    i = 0\n",
    "    if len(text) < 1 or text[0] != '[':\n",
    "        raise Exception(\"expected '['\")\n",
    "    if text[-1] != ']':\n",
    "        raise Exception(\"expected ']'\")\n",
    "    return np.array([*map(lambda x: parse_vector(x.strip()).flatten(), balanced_split(text[1:-1]))])"
   ]
  },
  {
   "cell_type": "code",
   "execution_count": 9,
   "metadata": {},
   "outputs": [],
   "source": [
    "def parse_net(text):\n",
    "    lines = [*filter(lambda x: len(x) != 0, text.split('\\n'))]\n",
    "    i = 0\n",
    "    res = layers()\n",
    "    while i < len(lines):\n",
    "        if lines[i] in ['ReLU', 'Affine']:\n",
    "            W = parse_matrix(lines[i+1])\n",
    "            b = parse_bias(lines[i+2])\n",
    "            res.layertypes.append(lines[i])\n",
    "            res.weights.append(W)\n",
    "            res.biases.append(b)\n",
    "            res.numlayer+= 1\n",
    "            res.rank.append(np.zeros((W.shape[0],1)))\n",
    "            res.use_LP.append(np.full((W.shape[0],1), False))\n",
    "            i += 3\n",
    "        else:\n",
    "            raise Exception('parse error: '+lines[i])\n",
    "    return res"
   ]
  },
  {
   "cell_type": "code",
   "execution_count": 10,
   "metadata": {},
   "outputs": [],
   "source": [
    "def parse_spec(text):\n",
    "    text = text.replace(\"[\", \"\")\n",
    "    text = text.replace(\"]\", \"\")\n",
    "    with open('dummy', 'w') as my_file:\n",
    "        my_file.write(text)\n",
    "    data = np.genfromtxt('dummy', delimiter=',',dtype=np.double)\n",
    "    low = copy.deepcopy(data[:,0])\n",
    "    high = copy.deepcopy(data[:,1])\n",
    "    return low,high"
   ]
  },
  {
   "cell_type": "code",
   "execution_count": 11,
   "metadata": {},
   "outputs": [],
   "source": [
    "def get_perturbed_image(x, epsilon):\n",
    "    image = x[1:len(x)]\n",
    "    num_pixels = len(image)\n",
    "    LB_N0 = image - epsilon\n",
    "    UB_N0 = image + epsilon\n",
    "     \n",
    "    for i in range(num_pixels):\n",
    "        if(LB_N0[i] < 0):\n",
    "            LB_N0[i] = 0\n",
    "        if(UB_N0[i] > 1):\n",
    "            UB_N0[i] = 1\n",
    "    return LB_N0, UB_N0"
   ]
  },
  {
   "cell_type": "code",
   "execution_count": 12,
   "metadata": {},
   "outputs": [],
   "source": [
    "def generate_linexpr0(weights, bias, size):\n",
    "    linexpr0 = elina_linexpr0_alloc(ElinaLinexprDiscr.ELINA_LINEXPR_DENSE, size)\n",
    "    cst = pointer(linexpr0.contents.cst)\n",
    "    elina_scalar_set_double(cst.contents.val.scalar, bias)\n",
    "    for i in range(size):\n",
    "        elina_linexpr0_set_coeff_scalar_double(linexpr0,i,weights[i])\n",
    "    return linexpr0"
   ]
  },
  {
   "cell_type": "code",
   "execution_count": 13,
   "metadata": {},
   "outputs": [],
   "source": [
    "def analyze(nn, LB_N0, UB_N0, label):   \n",
    "    num_pixels = len(LB_N0)\n",
    "    nn.ffn_counter = 0\n",
    "    numlayer = nn.numlayer \n",
    "    man = elina_box_manager_alloc()\n",
    "    itv = elina_interval_array_alloc(num_pixels)\n",
    "    for i in range(num_pixels):\n",
    "        elina_interval_set_double(itv[i],LB_N0[i],UB_N0[i])\n",
    "\n",
    "    ## construct input abstraction\n",
    "    element = elina_abstract0_of_box(man, 0, num_pixels, itv)\n",
    "    elina_interval_array_free(itv,num_pixels)\n",
    "    for layerno in range(numlayer):\n",
    "        if(nn.layertypes[layerno] in ['ReLU', 'Affine']):\n",
    "           weights = nn.weights[nn.ffn_counter]\n",
    "           biases = nn.biases[nn.ffn_counter]\n",
    "           dims = elina_abstract0_dimension(man,element)\n",
    "           num_in_pixels = dims.intdim + dims.realdim\n",
    "           num_out_pixels = len(weights)\n",
    "\n",
    "           dimadd = elina_dimchange_alloc(0,num_out_pixels)    \n",
    "           for i in range(num_out_pixels):\n",
    "               dimadd.contents.dim[i] = num_in_pixels\n",
    "           elina_abstract0_add_dimensions(man, True, element, dimadd, False)\n",
    "           elina_dimchange_free(dimadd)\n",
    "           np.ascontiguousarray(weights, dtype=np.double)\n",
    "           np.ascontiguousarray(biases, dtype=np.double)\n",
    "           var = num_in_pixels\n",
    "           # handle affine layer\n",
    "           for i in range(num_out_pixels):\n",
    "               tdim= ElinaDim(var)\n",
    "               linexpr0 = generate_linexpr0(weights[i],biases[i],num_in_pixels)\n",
    "               element = elina_abstract0_assign_linexpr_array(man, True, element, tdim, linexpr0, 1, None)\n",
    "               var+=1\n",
    "           dimrem = elina_dimchange_alloc(0,num_in_pixels)\n",
    "           for i in range(num_in_pixels):\n",
    "               dimrem.contents.dim[i] = i\n",
    "           elina_abstract0_remove_dimensions(man, True, element, dimrem)\n",
    "           elina_dimchange_free(dimrem)\n",
    "           # handle ReLU layer \n",
    "           if(nn.layertypes[layerno]=='ReLU'):\n",
    "              element = relu_box_layerwise(man,True,element,0, num_out_pixels)\n",
    "           nn.ffn_counter+=1 \n",
    "\n",
    "        else:\n",
    "           print(' net type not supported')\n",
    "   \n",
    "    dims = elina_abstract0_dimension(man,element)\n",
    "    output_size = dims.intdim + dims.realdim\n",
    "    # get bounds for each output neuron\n",
    "    bounds = elina_abstract0_to_box(man,element)\n",
    "\n",
    "           \n",
    "    # if epsilon is zero, try to classify else verify robustness \n",
    "    \n",
    "    verified_flag = True\n",
    "    predicted_label = 0\n",
    "    if(LB_N0[0]==UB_N0[0]):\n",
    "        for i in range(output_size):\n",
    "            inf = bounds[i].contents.inf.contents.val.dbl\n",
    "            flag = True\n",
    "            for j in range(output_size):\n",
    "                if(j!=i):\n",
    "                   sup = bounds[j].contents.sup.contents.val.dbl\n",
    "                   if(inf<=sup):\n",
    "                      flag = False\n",
    "                      break\n",
    "            if(flag):\n",
    "                predicted_label = i\n",
    "                break    \n",
    "    else:\n",
    "        inf = bounds[label].contents.inf.contents.val.dbl\n",
    "        for j in range(output_size):\n",
    "            if(j!=label):\n",
    "                sup = bounds[j].contents.sup.contents.val.dbl\n",
    "                if(inf<=sup):\n",
    "                    predicted_label = label\n",
    "                    verified_flag = False\n",
    "                    break\n",
    "\n",
    "    elina_interval_array_free(bounds,output_size)\n",
    "    elina_abstract0_free(man,element)\n",
    "    elina_manager_free(man)        \n",
    "    return predicted_label, verified_flag"
   ]
  },
  {
   "cell_type": "markdown",
   "metadata": {},
   "source": [
    "## Define operations on abstract domain using Box approximations"
   ]
  },
  {
   "cell_type": "code",
   "execution_count": 14,
   "metadata": {},
   "outputs": [],
   "source": [
    "def get_relu_bounds_using_box(man, input_LB, input_UB, num_in_pixels):\n",
    "    '''\n",
    "    This function calculates the bounds of a ReLU operation. \n",
    "    INPUT:\n",
    "        - man: pointer to elina manager\n",
    "        - input_LB: lower bound of the inputs to the ReLU\n",
    "        - input_UB: upper bound of the inputs to the ReLU\n",
    "        - num_in_pixels: number of inputs to ReLU\n",
    "    \n",
    "    OUTPUT:\n",
    "        - output_LB: lower bound of the outputs from ReLU layer\n",
    "        - output_UB: upper bound of the outputs from ReLU layer\n",
    "        - num_out_pixels: number of outputs of ReLI layer\n",
    "    '''\n",
    "    itv = elina_interval_array_alloc(num_in_pixels)\n",
    "\n",
    "    ## Populate the interval\n",
    "    for i in range(num_in_pixels):\n",
    "        elina_interval_set_double(itv[i], input_LB[i], input_UB[i])\n",
    "\n",
    "    ## construct input abstraction\n",
    "    element = elina_abstract0_of_box(man, 0, num_in_pixels, itv)\n",
    "    elina_interval_array_free(itv, num_in_pixels)\n",
    "    \n",
    "    # ------------------------------------------------------------------\n",
    "    # Handle ReLU Layer\n",
    "    # ------------------------------------------------------------------\n",
    "    num_out_pixels = num_in_pixels\n",
    "    \n",
    "    element = relu_box_layerwise(man, True, element,0, num_in_pixels)\n",
    "    \n",
    "    # get bounds for each output neuron\n",
    "    bounds = elina_abstract0_to_box(man,element)\n",
    "    \n",
    "    # get bounds for each output neuron\n",
    "    bounds = elina_abstract0_to_box(man,element)\n",
    "    \n",
    "    output_LB = np.zeros((num_out_pixels, 1), float)\n",
    "    output_UB = np.zeros((num_out_pixels, 1), float)\n",
    "    for j in range(num_out_pixels):\n",
    "        output_LB[j] = bounds[j].contents.inf.contents.val.dbl\n",
    "        output_UB[j] = bounds[j].contents.sup.contents.val.dbl\n",
    "    \n",
    "    # free out the memory allocations\n",
    "    elina_interval_array_free(bounds, num_out_pixels)\n",
    "    elina_abstract0_free(man, element)\n",
    "    \n",
    "    return output_LB, output_UB, num_out_pixels"
   ]
  },
  {
   "cell_type": "code",
   "execution_count": 15,
   "metadata": {},
   "outputs": [],
   "source": [
    "def get_hidden_bounds_using_box(man, weights, biases, input_LB, input_UB, num_in_pixels, verbose=False):\n",
    "    '''\n",
    "    This function calculates the bounds of a ReLU operation followed by a hidden layer. \n",
    "    INPUT:\n",
    "        - man: pointer to elina manager\n",
    "        - weights: weights of the hidden layer\n",
    "        - biases: biases of the hidden layer\n",
    "        - input_LB: lower bound of the inputs to the hidden layer\n",
    "        - input_UB: upper bound of the inputs to the hidden layer\n",
    "        - num_in_pixels: number of inputs to the input layer\n",
    "    \n",
    "    OUTPUT:\n",
    "        - output_LB: lower bound of the outputs from hidden layer\n",
    "        - output_UB: upper bound of the outputs from hidden layer\n",
    "        - num_out_pixels: number of outputs of hidden layer\n",
    "    '''\n",
    "    itv = elina_interval_array_alloc(num_in_pixels)\n",
    "\n",
    "    ## Populate the interval\n",
    "    for i in range(num_in_pixels):\n",
    "        elina_interval_set_double(itv[i], input_LB[i], input_UB[i])\n",
    "\n",
    "    ## construct input abstraction\n",
    "    element = elina_abstract0_of_box(man, 0, num_in_pixels, itv)\n",
    "    elina_interval_array_free(itv, num_in_pixels)\n",
    "    \n",
    "    # ------------------------------------------------------------------\n",
    "    # Handle Affine Layer\n",
    "    # ------------------------------------------------------------------\n",
    "\n",
    "    # calculate number of outputs\n",
    "    num_out_pixels = len(weights)\n",
    "    \n",
    "    if verbose:\n",
    "        print(\"[Network] Input pixels: \" + str(num_in_pixels))\n",
    "        print(\"[Network] Shape of weights: \" + str(np.shape(weights)))\n",
    "        print(\"[Network] Shape of biases: \" + str(np.shape(biases)))\n",
    "        print(\"[Network] Out pixels: \" + str(num_out_pixels))\n",
    "\n",
    "    # Create number of neurons in the layer and populate it\n",
    "    # with the number of inputs to each neuron in the layer\n",
    "    dimadd = elina_dimchange_alloc(0, num_out_pixels)    \n",
    "    for i in range(num_out_pixels):\n",
    "        dimadd.contents.dim[i] = num_in_pixels\n",
    "\n",
    "    # Add dimensions to an ElinaAbstract0 pointer i.e. element\n",
    "    elina_abstract0_add_dimensions(man, True, element, dimadd, False)\n",
    "    elina_dimchange_free(dimadd)\n",
    "\n",
    "    # Create the linear expression associated each neuron\n",
    "    var = num_in_pixels\n",
    "    for i in range(num_out_pixels):\n",
    "        tdim = ElinaDim(var)\n",
    "        linexpr0 = generate_linexpr0(weights[i], biases[i], num_in_pixels)\n",
    "        # Parallel assignment of several dimensions of an ElinaAbstract0 by using an ElinaLinexpr0Array\n",
    "        element = elina_abstract0_assign_linexpr_array(man, True, element, tdim, linexpr0, 1, None)\n",
    "        var += 1\n",
    "\n",
    "    # Pointer to which semantics we want to follow.\n",
    "    dimrem = elina_dimchange_alloc(0, num_in_pixels)\n",
    "    for i in range(num_in_pixels):\n",
    "        dimrem.contents.dim[i] = i\n",
    "        \n",
    "    # Remove dimensions from an ElinaAbstract0\n",
    "    elina_abstract0_remove_dimensions(man, True, element, dimrem)\n",
    "    elina_dimchange_free(dimrem)\n",
    "    \n",
    "    # get bounds for each output neuron\n",
    "    bounds = elina_abstract0_to_box(man,element)\n",
    "    \n",
    "    output_LB = np.zeros((num_out_pixels, 1), float)\n",
    "    output_UB = np.zeros((num_out_pixels, 1), float)\n",
    "    for j in range(num_out_pixels):\n",
    "        output_LB[j] = bounds[j].contents.inf.contents.val.dbl\n",
    "        output_UB[j] = bounds[j].contents.sup.contents.val.dbl    \n",
    "    \n",
    "    # free out the memory allocations\n",
    "    elina_interval_array_free(bounds, num_out_pixels)\n",
    "    elina_abstract0_free(man, element)\n",
    "    \n",
    "    return output_LB, output_UB, num_out_pixels"
   ]
  },
  {
   "cell_type": "markdown",
   "metadata": {},
   "source": [
    "# Define function to verify the neural network"
   ]
  },
  {
   "cell_type": "code",
   "execution_count": 16,
   "metadata": {},
   "outputs": [],
   "source": [
    "def verify_network(LB_N0, UB_N0, LB_NN, UB_NN, label, num_input_pixels = 784, num_out_pixels = 10):\n",
    "    '''\n",
    "    This function verifies the network given the bounds of the input layer and the final layer of the network.\n",
    "    INPUT:\n",
    "        - LB_N0: lower bounds of the preturbed input image\n",
    "        - UB_N0: unpper bounds of the preturbed input image\n",
    "        - LB_NN: lower bounds of the final layer of neural network\n",
    "        - UB_NN: upper bounds of the final layer of neural network\n",
    "        - label: true label of the input image\n",
    "        - num_input_pixels: number of pixels in the input image\n",
    "        - num_out_pixels: number of neurons in the last layer of the network (for MNIST, default: 10)\n",
    "    \n",
    "    OUTPUT:\n",
    "        - predicted_label: label predicted by the neural network\n",
    "        - verified_flag: boolean variable, true if the network is robust to perturbation\n",
    "    '''\n",
    "    \n",
    "    # if epsilon is zero, try to classify else verify robustness \n",
    "    verified_flag = True\n",
    "    predicted_label = 0\n",
    "    if(LB_N0[0]==UB_N0[0]):\n",
    "        for i in range(num_out_pixels):\n",
    "            inf = LB_NN[i]\n",
    "            flag = True\n",
    "            for j in range(num_out_pixels):\n",
    "                if(j!=i):\n",
    "                    sup = UB_NN[j]\n",
    "                    if(inf<=sup):\n",
    "                        flag = False\n",
    "                        break\n",
    "            if(flag):\n",
    "                predicted_label = i\n",
    "                break    \n",
    "    else:\n",
    "        inf = LB_NN[label]\n",
    "        for j in range(num_out_pixels):\n",
    "            if(j!=label):\n",
    "                sup = UB_NN[j]\n",
    "                if(inf<=sup):\n",
    "                    predicted_label = label\n",
    "                    verified_flag = False\n",
    "                    break\n",
    "\n",
    "    if(verified_flag):\n",
    "        print(\"verified\")\n",
    "    else:\n",
    "        print(\"can not be verified\")  \n",
    "        \n",
    "    return predicted_label, verified_flag"
   ]
  },
  {
   "cell_type": "markdown",
   "metadata": {},
   "source": [
    "# Initialize the problem variables"
   ]
  },
  {
   "cell_type": "code",
   "execution_count": 17,
   "metadata": {},
   "outputs": [
    {
     "name": "stdout",
     "output_type": "stream",
     "text": [
      "mnist_relu_3_10.txt    mnist_relu_6_100.txt  mnist_relu_9_100.txt\r\n",
      "mnist_relu_3_20.txt    mnist_relu_6_200.txt  mnist_relu_9_200.txt\r\n",
      "mnist_relu_3_50.txt    mnist_relu_6_20.txt\r\n",
      "mnist_relu_4_1024.txt  mnist_relu_6_50.txt\r\n"
     ]
    }
   ],
   "source": [
    "!ls /home/riai2018/mnist_nets/"
   ]
  },
  {
   "cell_type": "code",
   "execution_count": 18,
   "metadata": {},
   "outputs": [],
   "source": [
    "# netname = '/home/riai2018/mnist_nets/mnist_relu_3_10.txt'\n",
    "# specname = '/home/riai2018/mnist_images/img2.txt'\n",
    "# epsilon = 0.01072 NOT verified\n",
    "# epsilon = 0.01071 verified\n",
    "\n",
    "netname = '/home/riai2018/mnist_nets/mnist_relu_3_10.txt'\n",
    "specname = '/home/riai2018/mnist_images/img2.txt'\n",
    "epsilon = 0.01072"
   ]
  },
  {
   "cell_type": "code",
   "execution_count": 19,
   "metadata": {},
   "outputs": [],
   "source": [
    "with open(netname, 'r') as netfile:\n",
    "    netstring = netfile.read()\n",
    "with open(specname, 'r') as specfile:\n",
    "    specstring = specfile.read()\n",
    "nn = parse_net(netstring)\n",
    "x0_low, x0_high = parse_spec(specstring)\n",
    "LB_N0, UB_N0 = get_perturbed_image(x0_low,0)"
   ]
  },
  {
   "cell_type": "code",
   "execution_count": 20,
   "metadata": {},
   "outputs": [
    {
     "name": "stdout",
     "output_type": "stream",
     "text": [
      "ReLU\n",
      "ReLU\n",
      "ReLU\n"
     ]
    }
   ],
   "source": [
    "numlayer = nn.numlayer \n",
    "\n",
    "for layerno in range(numlayer):\n",
    "    if(nn.layertypes[layerno] in ['ReLU', 'Affine']):\n",
    "        print(nn.layertypes[layerno])"
   ]
  },
  {
   "cell_type": "markdown",
   "metadata": {},
   "source": [
    "# Get perturbed label (provided prediction for unperturbed is true)"
   ]
  },
  {
   "cell_type": "code",
   "execution_count": 21,
   "metadata": {},
   "outputs": [
    {
     "name": "stdout",
     "output_type": "stream",
     "text": [
      "Test label: 1\n"
     ]
    }
   ],
   "source": [
    "label, _ = analyze(nn,LB_N0,UB_N0,0) # Get label of unperturbed image, i.e. eps=0\n",
    "print(\"Test label: \" + str(label))\n",
    "\n",
    "if(label == int(x0_low[0])):\n",
    "    LB_N0, UB_N0 = get_perturbed_image(x0_low,epsilon)\n",
    "else:\n",
    "    print(\"image not correctly classified by the network. expected label \",int(x0_low[0]), \" classified label: \", label)"
   ]
  },
  {
   "cell_type": "markdown",
   "metadata": {},
   "source": [
    "# Start Verification"
   ]
  },
  {
   "cell_type": "markdown",
   "metadata": {},
   "source": [
    "## 1) Find naive/spectral bounds using box approximation"
   ]
  },
  {
   "cell_type": "code",
   "execution_count": 22,
   "metadata": {},
   "outputs": [],
   "source": [
    "# create a list to store the bounds found through box approximation\n",
    "LB_hidden_box_list = []\n",
    "UB_hidden_box_list = []\n",
    "\n",
    "# add the bounds for the image input\n",
    "LB_hidden_box_list.insert(0, LB_N0)\n",
    "UB_hidden_box_list.insert(0, UB_N0)\n",
    "\n",
    "# create manager for Elina\n",
    "man = elina_box_manager_alloc()\n",
    "\n",
    "# initialize variables for the network iteration\n",
    "numlayer = nn.numlayer \n",
    "nn.ffn_counter = 0\n",
    "\n",
    "# for input image\n",
    "input_LB = LB_N0.copy()\n",
    "input_UB = UB_N0.copy()\n",
    "num_in_pixels = len(LB_N0)\n",
    "\n",
    "# verbose for debugging\n",
    "verbose = False"
   ]
  },
  {
   "cell_type": "code",
   "execution_count": 23,
   "metadata": {},
   "outputs": [
    {
     "name": "stdout",
     "output_type": "stream",
     "text": [
      "Input Layer, size: 784\n",
      "---------------\n",
      "Layer Number: 1\n",
      "---------------\n",
      "Layer Number: 2\n",
      "---------------\n",
      "Layer Number: 3\n",
      "---------------\n",
      "Output Layer, size: 10\n"
     ]
    }
   ],
   "source": [
    "# NOTE: Run upper codeblock before iteration!\n",
    "\n",
    "print(\"Input Layer, size: \" + str(len(LB_N0)))\n",
    "print('---------------')\n",
    "\n",
    "for layerno in range(numlayer):\n",
    "    \n",
    "    print(\"Layer Number: \" + str(layerno + 1))\n",
    "    \n",
    "    if(nn.layertypes[layerno] in ['ReLU', 'Affine']):\n",
    "        if verbose:\n",
    "            print(\"Layer Type: %s\" % nn.layertypes[layerno])\n",
    "            \n",
    "        # read the layer weights and biases\n",
    "        weights = nn.weights[nn.ffn_counter]\n",
    "        biases = nn.biases[nn.ffn_counter]\n",
    "        np.ascontiguousarray(weights, dtype=np.double)\n",
    "        np.ascontiguousarray(biases, dtype=np.double)\n",
    "        \n",
    "        # ------------------------------------------------------------------\n",
    "        # Handle Affine Layer\n",
    "        # ------------------------------------------------------------------\n",
    "        output_LB, output_UB, num_out_pixels = get_hidden_bounds_using_box(man, weights, biases, input_LB, input_UB, num_in_pixels, verbose)\n",
    "        \n",
    "        # Add bounds to the list\n",
    "        LB_hidden_box_list.append(output_LB.copy())\n",
    "        UB_hidden_box_list.append(output_UB.copy())\n",
    "        # Prepare variables for next layer\n",
    "        input_LB = output_LB.copy()\n",
    "        input_UB = output_UB.copy()\n",
    "        num_in_pixels = num_out_pixels\n",
    "        nn.ffn_counter += 1 \n",
    "\n",
    "        # ------------------------------------------------------------------\n",
    "        # Handle ReLU Layer\n",
    "        # ------------------------------------------------------------------\n",
    "        if(nn.layertypes[layerno] == \"ReLU\"):\n",
    "            output_LB, output_UB, num_out_pixels = get_relu_bounds_using_box(man, input_LB, input_UB, num_in_pixels)\n",
    "\n",
    "            # Prepare variables for next layer\n",
    "            input_LB = output_LB.copy()\n",
    "            input_UB = output_UB.copy()\n",
    "        \n",
    "        if verbose:\n",
    "            print(\"[OUTPUT] Bounds: \")\n",
    "            output_LB, output_UB  = output_LB.squeeze(), output_UB.squeeze()\n",
    "            pprint(np.stack((output_LB, output_UB), axis=1))\n",
    "            \n",
    "        print('---------------')\n",
    "\n",
    "    else:\n",
    "        print(' net type not supported')\n",
    "        \n",
    "print(\"Output Layer, size: \" + str(len(output_LB)))\n",
    "\n",
    "elina_manager_free(man)"
   ]
  },
  {
   "cell_type": "code",
   "execution_count": 24,
   "metadata": {},
   "outputs": [
    {
     "name": "stdout",
     "output_type": "stream",
     "text": [
      "[OUTPUT] Bounds: \n",
      "array([[-5.64008542, -0.68057756],\n",
      "       [ 3.42079412, 10.31333789],\n",
      "       [-0.49786419,  3.41469333],\n",
      "       [-0.22360172,  2.49013492],\n",
      "       [-3.78319696, -0.98382818],\n",
      "       [-3.58369875, -0.40777788],\n",
      "       [-5.21258919,  0.14710902],\n",
      "       [-0.86738134,  3.42412938],\n",
      "       [-0.23059622,  2.84913467],\n",
      "       [-2.95769429, -0.08689794]])\n"
     ]
    }
   ],
   "source": [
    "print(\"[OUTPUT] Bounds: \")\n",
    "pprint(np.concatenate([LB_hidden_box_list[-1], UB_hidden_box_list[-1]], axis = 1))"
   ]
  },
  {
   "cell_type": "markdown",
   "metadata": {},
   "source": [
    "## 2) Find tighter bounds using linear programming"
   ]
  },
  {
   "cell_type": "code",
   "execution_count": 25,
   "metadata": {},
   "outputs": [],
   "source": [
    "def relu_activations_checker(LBs, UBs):\n",
    "    \"\"\"\n",
    "    This function computes “which side” of the ReLU the pre-ReLU activations lies on.\n",
    "    INPUT\n",
    "        - LBs: list of lower bound of inputs to all the layers i.e. (input, hidden_1, hidden_2, ....)\n",
    "        - UBs: list of upper bound of inputs to all the layers i.e. (input, hidden_1, hidden_2, ....)\n",
    "    OUTPUT:\n",
    "        - neuron_states: list of neuron activation information for each layer\n",
    "                         KEY:   -1: deactivated\n",
    "                                +1: activated\n",
    "                                 0: ambiguous  \n",
    "        - alphas: slope for relu approximation when neuron state is 0\n",
    "    \"\"\"\n",
    "    \n",
    "    numlayers = len(UBs) - 1\n",
    "    neuron_states = []\n",
    "    alphas = []\n",
    "    \n",
    "    # for k layer network, we have k-1 layers of relu activation layers\n",
    "    for i in range(1,  numlayers):\n",
    "        # create array to store the ReLU states and slopes \n",
    "        neuron_state = np.zeros_like(UBs[i], int)\n",
    "        alpha = np.zeros_like(UBs[i])\n",
    "        # iterate over each pre-relu neuron activation\n",
    "        for j in range(len(UBs[i])):\n",
    "            u = UBs[i][j]\n",
    "            l = LBs[i][j]\n",
    "\n",
    "            if u <= 0:\n",
    "                neuron_state[j] = -1\n",
    "            elif l > 0:\n",
    "                neuron_state[j] = 1\n",
    "            else:\n",
    "                neuron_state[j] = 0\n",
    "                alpha[j] = u/(u - l)\n",
    "        # append to the list\n",
    "        neuron_states.append(neuron_state)\n",
    "        alphas.append(alpha)\n",
    "                                      \n",
    "    return neuron_states, alphas"
   ]
  },
  {
   "cell_type": "markdown",
   "metadata": {},
   "source": [
    "__Paper:__ \"Provable defenses against adversarial examples via the convex outer adversarial polytope\"; J. Zico Kolter, Eric Wong [[PDF]](https://machine-learning-and-security.github.io/papers/mlsec17_paper_42.pdf)\n",
    "\n",
    "We follow the following notation: \n",
    "```\n",
    "Consider a k-layer feedforward ReLU-based NN, f_θ : R^|x| → R^|y|. Given equations: \n",
    "        z_hat_{i} = W_i * z_i + b_i, where i = {1, . . . , k}\n",
    "        z_i = max(z_hat_{i-1} , 0),      where i = {2, . . . , k}\n",
    "and, \n",
    "        z_1 = x\n",
    "        f_θ(x) ≡ z_hat_{k}\n",
    "```"
   ]
  },
  {
   "cell_type": "code",
   "execution_count": 26,
   "metadata": {},
   "outputs": [],
   "source": [
    "# initialize variables for the network iteration\n",
    "numlayer = nn.numlayer \n",
    "nn.ffn_counter = 0\n",
    "num_in_pixels = len(LB_N0)\n",
    "\n",
    "# verbose for debugging\n",
    "verbose = False\n",
    "        \n",
    "# neuron_states across the network\n",
    "neuron_states, alphas = relu_activations_checker(LB_hidden_box_list, UB_hidden_box_list)"
   ]
  },
  {
   "cell_type": "code",
   "execution_count": 27,
   "metadata": {},
   "outputs": [
    {
     "name": "stdout",
     "output_type": "stream",
     "text": [
      "Number of neurons with ReLU activation in layer 1: 10 \n",
      "Number of neurons that are activated ambiguously: 2 \n",
      "------------------------------\n",
      "Number of neurons with ReLU activation in layer 2: 10 \n",
      "Number of neurons that are activated ambiguously: 4 \n",
      "------------------------------\n"
     ]
    }
   ],
   "source": [
    "# Sanity check: for k layer network, we have k-1 layers of relu activations\n",
    "for i in range(numlayer-1):\n",
    "    idx_unsure = (neuron_states[i] == 0).nonzero()[0]\n",
    "    print(\"Number of neurons with ReLU activation in layer {0}: {1} \".format(i + 1, len(neuron_states[i])))\n",
    "    print(\"Number of neurons that are activated ambiguously: {0} \".format(len(idx_unsure)))\n",
    "    print(\"------------------------------\")"
   ]
  },
  {
   "cell_type": "code",
   "execution_count": 28,
   "metadata": {},
   "outputs": [
    {
     "name": "stdout",
     "output_type": "stream",
     "text": [
      "Academic license - for non-commercial use only\n"
     ]
    }
   ],
   "source": [
    "m = Model(\"LP\")\n",
    "m.setParam(\"outputflag\", verbose)\n",
    "\n",
    "# disable parallel Gurobi solver\n",
    "m.setParam(\"Method\", 1)  # dual simplex\n",
    "m.setParam(\"Threads\", 1) # only 1 thread"
   ]
  },
  {
   "cell_type": "code",
   "execution_count": 29,
   "metadata": {},
   "outputs": [],
   "source": [
    "# We follow the following notations:\n",
    "# z_hat_{i} = W_i * z_i + b_i, where i = {1, . . . , k}, and z_hat_{k} = y (ouput of NN)\n",
    "# z_i = max(z_hat_{i-1} , 0),  where i = {2, . . . , k}, and z_1 = x (input to NN)\n",
    "\n",
    "# for input layer:\n",
    "# Variable lower bound: Note that any value less than -1e20 is treated as negative infinity. \n",
    "num_in_pixels = len(LB_N0)\n",
    "img_vars = m.addVars(num_in_pixels, lb=LB_N0, ub=UB_N0, name=\"input_layer\")"
   ]
  },
  {
   "cell_type": "code",
   "execution_count": 30,
   "metadata": {},
   "outputs": [],
   "source": [
    "# for output of each ReLU\n",
    "z = []\n",
    "z.append(img_vars)\n",
    "# for output of each hidden layer\n",
    "z_hat = []\n",
    "\n",
    "# Create variables for all layers and append to the list \n",
    "for i in range(1, numlayer + 1):\n",
    "    # for layers before the final layer, z_hat and z exists\n",
    "    if i < numlayer:\n",
    "        # middle layer, has both z and z hat\n",
    "        z_hat_hidden = m.addVars(len(UB_hidden_box_list[i]), lb=-np.inf, vtype=GRB.CONTINUOUS, name=\"hidden_layer_\" + str(i))\n",
    "        z_relu = m.addVars(len(UB_hidden_box_list[i]), vtype=GRB.CONTINUOUS, name=\"relu_layer_\" + str(i))\n",
    "        # append to the list\n",
    "        z_hat.append(z_hat_hidden)\n",
    "        z.append(z_relu)\n",
    "    # for last layer, only z_hat exists\n",
    "    else: \n",
    "        z_hat_hidden = m.addVars(len(UB_hidden_box_list[i]), lb=-np.inf, vtype=GRB.CONTINUOUS, name=\"output_layer\") \n",
    "        # append to the list\n",
    "        z_hat.append(z_hat_hidden)\n",
    "\n",
    "m.update()"
   ]
  },
  {
   "cell_type": "code",
   "execution_count": 31,
   "metadata": {},
   "outputs": [
    {
     "name": "stdout",
     "output_type": "stream",
     "text": [
      "Number of relu layers: 3\n",
      "Number of hidden layers: 3\n",
      "Size of last hidden layer: 10\n"
     ]
    }
   ],
   "source": [
    "# Sanity check!\n",
    "# Size of z should be number of relu activation layers + 1 (for input)\n",
    "print(\"Number of relu layers: {0}\".format(len(z)))\n",
    "# Size of z_hat should be number of hidden layers\n",
    "print(\"Number of hidden layers: {0}\".format(len(z_hat)))\n",
    "print(\"Size of last hidden layer: {0}\".format(len(z_hat[-1])))"
   ]
  },
  {
   "cell_type": "code",
   "execution_count": 32,
   "metadata": {},
   "outputs": [],
   "source": [
    "nn.ffn_counter = 0\n",
    "\n",
    "# Adding weights constraints for k layers\n",
    "for layerno in range(numlayer):\n",
    "    if(nn.layertypes[layerno] in ['ReLU', 'Affine']):\n",
    "        # read the layer weights and biases\n",
    "        weights = nn.weights[nn.ffn_counter]\n",
    "        biases = nn.biases[nn.ffn_counter]\n",
    "        np.ascontiguousarray(weights, dtype=np.float)\n",
    "        np.ascontiguousarray(biases, dtype=np.float)\n",
    "        \n",
    "        # output shape of the layer\n",
    "        n_in = weights.shape[1]\n",
    "        n_out = weights.shape[0]\n",
    "        \n",
    "        for i_out in range(n_out):\n",
    "            constr = LinExpr() + np.asscalar(biases[i_out])\n",
    "            for s in range(n_in):\n",
    "                # z start from 1\n",
    "                constr += z[layerno][s] * np.asscalar(weights[i_out, s])\n",
    "                \n",
    "            # add constraint to model\n",
    "            m.addConstr(z_hat[layerno][i_out] == constr, name=\"hidden_constr_\" + str(layerno) + \"_\" + str(i_out))\n",
    "            \n",
    "        # update counter for next iteration\n",
    "        nn.ffn_counter += 1\n",
    "    else:\n",
    "        raise(\"Not a valid layer!\")\n",
    "        \n",
    "m.update()"
   ]
  },
  {
   "cell_type": "code",
   "execution_count": 33,
   "metadata": {},
   "outputs": [],
   "source": [
    "# Adding relu constraints for (k-1) layers. The loop starts from z_2 since z_1 is input\n",
    "for i in range(1, numlayer):\n",
    "    for j in range(len(UB_hidden_box_list[i])):\n",
    "        # relu neuron is deactivated\n",
    "        if (neuron_states[i-1][j] == -1):\n",
    "            m.addConstr(z[i][j] == 0, \\\n",
    "                        name=\"relu_constr_deac_\" + str(i) + \"_\" + str(j))\n",
    "        # relu is purely activated\n",
    "        elif (neuron_states[i-1][j] == 1):\n",
    "            m.addConstr(z[i][j] == z_hat[i-1][j], \\\n",
    "                        name=\"relu_constr_acti_\" + str(i) + \"_\" + str(j))\n",
    "        # relu activation is ambiguous\n",
    "        elif (neuron_states[i-1][j] == 0):\n",
    "            m.addConstr(z[i][j] >= 0 , \\\n",
    "                         name=\"relu_const_ambi_pos_\" + str(i) + \"_\" + str(j))\n",
    "            m.addConstr(z[i][j] >= z_hat[i-1][j], \\\n",
    "                         name=\"relu_const_ambi_hid_\" + str(i) + \"_\" + str(j))\n",
    "            m.addConstr(z[i][j] <= np.asscalar(alphas[i-1][j])* (z_hat[i-1][j] - np.asscalar(LB_hidden_box_list[i][j])), \\\n",
    "                         name=\"relu_const_ambi_lin_\" + str(i) + \"_\" + str(j))\n",
    "        else:\n",
    "            raise(RuntimeError(\"unknown neuron state encountered: \" + str(neuron_states[i][j])))\n",
    "            \n",
    "m.update()"
   ]
  },
  {
   "cell_type": "code",
   "execution_count": 34,
   "metadata": {},
   "outputs": [],
   "source": [
    "# storing upper and lower bounds for last layer\n",
    "UB = np.empty_like(nn.biases[-1])\n",
    "LB = np.empty_like(nn.biases[-1])\n",
    "numlayer = nn.numlayer "
   ]
  },
  {
   "cell_type": "code",
   "execution_count": 35,
   "metadata": {},
   "outputs": [],
   "source": [
    "# Solving for each neuron in the output layer to collect bounds\n",
    "# i.e. z_hat_{-1} where -1 denotes the last array in list\n",
    "for i_out in range(len(UB)):            \n",
    "    # Find Lower Bound\n",
    "    m.setObjective(z_hat[-1][i_out], GRB.MINIMIZE)\n",
    "    m.update()\n",
    "    m.optimize()\n",
    "    m.write(\"min_model_\" + str(i_out) + \".lp\")\n",
    "    if m.status == GRB.Status.OPTIMAL:\n",
    "        LB[i_out] = m.objVal\n",
    "    else:\n",
    "        m.computeIIS() \n",
    "        m.write('min_model.ilp')\n",
    "        print('[Min] Error. Not Able to retrieve bound. Gurobi Model. Not Optimal.')\n",
    "        sys.exit(0)\n",
    "    # reset model \n",
    "    m.reset()\n",
    "\n",
    "    # Find Upper Bound\n",
    "    m.setObjective(z_hat[-1][i_out], GRB.MAXIMIZE)\n",
    "    m.update()\n",
    "    m.optimize()\n",
    "    if m.status == GRB.Status.OPTIMAL:\n",
    "        UB[i_out] = m.objVal\n",
    "    else:\n",
    "        m.write('max_model.lp')\n",
    "        print('[Max] Error. Not Able to retrieve bound. Gurobi Model. Not Optimal.')\n",
    "        sys.exit(0)\n",
    "    # reset model \n",
    "    m.reset()"
   ]
  },
  {
   "cell_type": "code",
   "execution_count": 37,
   "metadata": {},
   "outputs": [
    {
     "name": "stdout",
     "output_type": "stream",
     "text": [
      "can not be verified\n",
      "--------- For Box ----------\n",
      "[OUTPUT] Bounds: \n",
      "array([[-5.64008542, -0.68057756],\n",
      "       [ 3.42079412, 10.31333789],\n",
      "       [-0.49786419,  3.41469333],\n",
      "       [-0.22360172,  2.49013492],\n",
      "       [-3.78319696, -0.98382818],\n",
      "       [-3.58369875, -0.40777788],\n",
      "       [-5.21258919,  0.14710902],\n",
      "       [-0.86738134,  3.42412938],\n",
      "       [-0.23059622,  2.84913467],\n",
      "       [-2.95769429, -0.08689794]])\n",
      "[VERIFY] Verification status: 1\n"
     ]
    }
   ],
   "source": [
    "# check verifiability with box!\n",
    "print(\"--------- For Box ----------\")\n",
    "print(\"[OUTPUT] Bounds: \")\n",
    "pprint(np.concatenate([LB_hidden_box_list[-1], UB_hidden_box_list[-1]], axis = 1))\n",
    "print(\"[VERIFY] Verification status: \")\n",
    "flag, _ = verify_network(LB_N0, UB_N0, LB_hidden_box_list[-1], UB_hidden_box_list[-1], \\\n",
    "                         label, num_input_pixels = len(LB_N0), num_out_pixels = 10)"
   ]
  },
  {
   "cell_type": "code",
   "execution_count": 38,
   "metadata": {},
   "outputs": [
    {
     "name": "stdout",
     "output_type": "stream",
     "text": [
      "--------- For Linear ----------\n",
      "[OUTPUT] Bounds: \n",
      "array([[-3.99136102, -2.59596921],\n",
      "       [ 6.09760516,  8.15467921],\n",
      "       [ 0.29984851,  2.44317553],\n",
      "       [ 0.34577915,  1.73538957],\n",
      "       [-2.74763824, -1.85756388],\n",
      "       [-2.5840157 , -1.33043464],\n",
      "       [-3.904455  , -1.04380751],\n",
      "       [ 0.1000914 ,  2.5065105 ],\n",
      "       [ 0.46429701,  2.0511557 ],\n",
      "       [-2.26460515, -1.02078735]])\n",
      "[VERIFY] Verification status: \n",
      "verified\n"
     ]
    }
   ],
   "source": [
    "# check verifiability with linear!\n",
    "print(\"--------- For Linear ----------\")\n",
    "print(\"[OUTPUT] Bounds: \")\n",
    "pprint(np.stack([LB, UB], axis = 1))\n",
    "print(\"[VERIFY] Verification status: \")\n",
    "flag, _ = verify_network(LB_N0, UB_N0, LB, UB, \\\n",
    "                         label, num_input_pixels = len(LB_N0), num_out_pixels = 10)"
   ]
  }
 ],
 "metadata": {
  "kernelspec": {
   "display_name": "Python 3",
   "language": "python",
   "name": "python3"
  },
  "language_info": {
   "codemirror_mode": {
    "name": "ipython",
    "version": 3
   },
   "file_extension": ".py",
   "mimetype": "text/x-python",
   "name": "python",
   "nbconvert_exporter": "python",
   "pygments_lexer": "ipython3",
   "version": "3.6.7"
  }
 },
 "nbformat": 4,
 "nbformat_minor": 2
}
