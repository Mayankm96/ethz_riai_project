{
 "cells": [
  {
   "cell_type": "code",
   "execution_count": 1,
   "metadata": {},
   "outputs": [],
   "source": [
    "import sys\n",
    "sys.path.insert(0, '../ELINA/python_interface/')\n",
    "\n",
    "import numpy as np\n",
    "import re\n",
    "import csv\n",
    "from elina_box import *\n",
    "from elina_interval import *\n",
    "from elina_abstract0 import *\n",
    "from elina_manager import *\n",
    "from elina_dimension import *\n",
    "from elina_scalar import *\n",
    "from elina_interval import *\n",
    "from elina_linexpr0 import *\n",
    "from elina_lincons0 import *\n",
    "import ctypes\n",
    "from ctypes.util import find_library\n",
    "from gurobipy import *\n",
    "import time"
   ]
  },
  {
   "cell_type": "code",
   "execution_count": 2,
   "metadata": {},
   "outputs": [],
   "source": [
    "# Import for debugging in jupyter notebook\n",
    "from IPython.core.debugger import set_trace #TODO remove at end."
   ]
  },
  {
   "cell_type": "code",
   "execution_count": 3,
   "metadata": {},
   "outputs": [],
   "source": [
    "libc = CDLL(find_library('c'))\n",
    "cstdout = c_void_p.in_dll(libc, 'stdout')"
   ]
  },
  {
   "cell_type": "code",
   "execution_count": 4,
   "metadata": {},
   "outputs": [],
   "source": [
    "class layers:\n",
    "    def __init__(self):\n",
    "        self.layertypes = []\n",
    "        self.weights = []\n",
    "        self.biases = []\n",
    "        self.numlayer = 0\n",
    "        self.ffn_counter = 0\n",
    "        self.rank = []\n",
    "        self.use_LP = []"
   ]
  },
  {
   "cell_type": "code",
   "execution_count": 5,
   "metadata": {},
   "outputs": [],
   "source": [
    "def parse_bias(text):\n",
    "    if len(text) < 1 or text[0] != '[':\n",
    "        raise Exception(\"expected '['\")\n",
    "    if text[-1] != ']':\n",
    "        raise Exception(\"expected ']'\")\n",
    "    v = np.array([*map(lambda x: np.double(x.strip()), text[1:-1].split(','))])\n",
    "    #return v.reshape((v.size,1))\n",
    "    return v"
   ]
  },
  {
   "cell_type": "code",
   "execution_count": 6,
   "metadata": {},
   "outputs": [],
   "source": [
    "def parse_vector(text):\n",
    "    if len(text) < 1 or text[0] != '[':\n",
    "        raise Exception(\"expected '['\")\n",
    "    if text[-1] != ']':\n",
    "        raise Exception(\"expected ']'\")\n",
    "    v = np.array([*map(lambda x: np.double(x.strip()), text[1:-1].split(','))])\n",
    "    return v.reshape((v.size,1))\n",
    "    #return v"
   ]
  },
  {
   "cell_type": "code",
   "execution_count": 7,
   "metadata": {},
   "outputs": [],
   "source": [
    "def balanced_split(text):\n",
    "    i = 0\n",
    "    bal = 0\n",
    "    start = 0\n",
    "    result = []\n",
    "    while i < len(text):\n",
    "        if text[i] == '[':\n",
    "            bal += 1\n",
    "        elif text[i] == ']':\n",
    "            bal -= 1\n",
    "        elif text[i] == ',' and bal == 0:\n",
    "            result.append(text[start:i])\n",
    "            start = i+1\n",
    "        i += 1\n",
    "    if start < i:\n",
    "        result.append(text[start:i])\n",
    "    return result"
   ]
  },
  {
   "cell_type": "code",
   "execution_count": 8,
   "metadata": {},
   "outputs": [],
   "source": [
    "def parse_matrix(text):\n",
    "    i = 0\n",
    "    if len(text) < 1 or text[0] != '[':\n",
    "        raise Exception(\"expected '['\")\n",
    "    if text[-1] != ']':\n",
    "        raise Exception(\"expected ']'\")\n",
    "    return np.array([*map(lambda x: parse_vector(x.strip()).flatten(), balanced_split(text[1:-1]))])"
   ]
  },
  {
   "cell_type": "code",
   "execution_count": 9,
   "metadata": {},
   "outputs": [],
   "source": [
    "def parse_net(text):\n",
    "    lines = [*filter(lambda x: len(x) != 0, text.split('\\n'))]\n",
    "    i = 0\n",
    "    res = layers()\n",
    "    while i < len(lines):\n",
    "        if lines[i] in ['ReLU', 'Affine']:\n",
    "            W = parse_matrix(lines[i+1])\n",
    "            b = parse_bias(lines[i+2])\n",
    "            res.layertypes.append(lines[i])\n",
    "            res.weights.append(W)\n",
    "            res.biases.append(b)\n",
    "            res.numlayer+= 1\n",
    "            res.rank.append(np.zeros((W.shape[0],1)))\n",
    "            res.use_LP.append(np.full((W.shape[0],1), False))\n",
    "            i += 3\n",
    "        else:\n",
    "            raise Exception('parse error: '+lines[i])\n",
    "    return res"
   ]
  },
  {
   "cell_type": "code",
   "execution_count": 10,
   "metadata": {},
   "outputs": [],
   "source": [
    "def parse_spec(text):\n",
    "    text = text.replace(\"[\", \"\")\n",
    "    text = text.replace(\"]\", \"\")\n",
    "    with open('dummy', 'w') as my_file:\n",
    "        my_file.write(text)\n",
    "    data = np.genfromtxt('dummy', delimiter=',',dtype=np.double)\n",
    "    low = np.copy(data[:,0])\n",
    "    high = np.copy(data[:,1])\n",
    "    return low,high"
   ]
  },
  {
   "cell_type": "code",
   "execution_count": 11,
   "metadata": {},
   "outputs": [],
   "source": [
    "def get_perturbed_image(x, epsilon):\n",
    "    image = x[1:len(x)]\n",
    "    num_pixels = len(image)\n",
    "    LB_N0 = image - epsilon\n",
    "    UB_N0 = image + epsilon\n",
    "     \n",
    "    for i in range(num_pixels):\n",
    "        if(LB_N0[i] < 0):\n",
    "            LB_N0[i] = 0\n",
    "        if(UB_N0[i] > 1):\n",
    "            UB_N0[i] = 1\n",
    "    return LB_N0, UB_N0"
   ]
  },
  {
   "cell_type": "code",
   "execution_count": 12,
   "metadata": {},
   "outputs": [],
   "source": [
    "def generate_linexpr0(weights, bias, size):\n",
    "    linexpr0 = elina_linexpr0_alloc(ElinaLinexprDiscr.ELINA_LINEXPR_DENSE, size)\n",
    "    cst = pointer(linexpr0.contents.cst)\n",
    "    elina_scalar_set_double(cst.contents.val.scalar, bias)\n",
    "    for i in range(size):\n",
    "        elina_linexpr0_set_coeff_scalar_double(linexpr0,i,weights[i])\n",
    "    return linexpr0"
   ]
  },
  {
   "cell_type": "code",
   "execution_count": 13,
   "metadata": {},
   "outputs": [],
   "source": [
    "def analyze(nn, LB_N0, UB_N0, label):   \n",
    "    num_pixels = len(LB_N0)\n",
    "    nn.ffn_counter = 0\n",
    "    numlayer = nn.numlayer \n",
    "    man = elina_box_manager_alloc()\n",
    "    itv = elina_interval_array_alloc(num_pixels)\n",
    "    for i in range(num_pixels):\n",
    "        elina_interval_set_double(itv[i],LB_N0[i],UB_N0[i])\n",
    "\n",
    "    ## construct input abstraction\n",
    "    element = elina_abstract0_of_box(man, 0, num_pixels, itv)\n",
    "    elina_interval_array_free(itv,num_pixels)\n",
    "    for layerno in range(numlayer):\n",
    "        if(nn.layertypes[layerno] in ['ReLU', 'Affine']):\n",
    "            weights = nn.weights[nn.ffn_counter]\n",
    "            biases = nn.biases[nn.ffn_counter]\n",
    "            dims = elina_abstract0_dimension(man,element)\n",
    "            num_in_pixels = dims.intdim + dims.realdim\n",
    "            num_out_pixels = len(weights)\n",
    "\n",
    "            dimadd = elina_dimchange_alloc(0,num_out_pixels)    \n",
    "            for i in range(num_out_pixels):\n",
    "                dimadd.contents.dim[i] = num_in_pixels\n",
    "            elina_abstract0_add_dimensions(man, True, element, dimadd, False)\n",
    "            elina_dimchange_free(dimadd)\n",
    "            np.ascontiguousarray(weights, dtype=np.double)\n",
    "            np.ascontiguousarray(biases, dtype=np.double)\n",
    "            var = num_in_pixels\n",
    "            # handle affine layer\n",
    "            for i in range(num_out_pixels):\n",
    "                tdim= ElinaDim(var)\n",
    "                linexpr0 = generate_linexpr0(weights[i],biases[i],num_in_pixels)\n",
    "                element = elina_abstract0_assign_linexpr_array(man, True, element, tdim, linexpr0, 1, None)\n",
    "                var+=1\n",
    "            dimrem = elina_dimchange_alloc(0,num_in_pixels)\n",
    "            for i in range(num_in_pixels):\n",
    "                dimrem.contents.dim[i] = i\n",
    "            elina_abstract0_remove_dimensions(man, True, element, dimrem)\n",
    "            elina_dimchange_free(dimrem)\n",
    "            # handle ReLU layer \n",
    "            if(nn.layertypes[layerno]=='ReLU'):\n",
    "                element = relu_box_layerwise(man,True,element,0, num_out_pixels)\n",
    "            nn.ffn_counter+=1 \n",
    "\n",
    "        else:\n",
    "            print(' net type not supported')\n",
    "   \n",
    "    dims = elina_abstract0_dimension(man,element)\n",
    "    output_size = dims.intdim + dims.realdim\n",
    "    # get bounds for each output neuron\n",
    "    bounds = elina_abstract0_to_box(man,element)\n",
    "\n",
    "           \n",
    "    # if epsilon is zero, try to classify else verify robustness \n",
    "    \n",
    "    verified_flag = True\n",
    "    predicted_label = 0\n",
    "    if(LB_N0[0]==UB_N0[0]):\n",
    "        for i in range(output_size):\n",
    "            inf = bounds[i].contents.inf.contents.val.dbl\n",
    "            flag = True\n",
    "            for j in range(output_size):\n",
    "                if(j!=i):\n",
    "                    sup = bounds[j].contents.sup.contents.val.dbl\n",
    "                    if(inf<=sup):\n",
    "                        flag = False\n",
    "                        break\n",
    "            if(flag):\n",
    "                predicted_label = i\n",
    "                break    \n",
    "    else:\n",
    "        inf = bounds[label].contents.inf.contents.val.dbl\n",
    "        for j in range(output_size):\n",
    "            if(j!=label):\n",
    "                sup = bounds[j].contents.sup.contents.val.dbl\n",
    "                if(inf<=sup):\n",
    "                    predicted_label = label\n",
    "                    verified_flag = Falselse\n",
    "                    break\n",
    "\n",
    "    elina_interval_array_free(bounds,output_size)\n",
    "    elina_abstract0_free(man,element)\n",
    "    elina_manager_free(man)        \n",
    "    return predicted_label, verified_flag"
   ]
  },
  {
   "cell_type": "code",
   "execution_count": 14,
   "metadata": {},
   "outputs": [],
   "source": [
    "# def main(netname, specname, esilon, c_label = None, method = 'box'):\n",
    "#     with open(netname, 'r') as netfile:\n",
    "#         netstring = netfile.read()\n",
    "#     with open(specname, 'r') as specfile:\n",
    "#         specstring = specfile.read()\n",
    "#     nn = parse_net(netstring)\n",
    "#     x0_low, x0_high = parse_spec(specstring)\n",
    "#     LB_N0, UB_N0 = get_perturbed_image(x0_low,0)\n",
    "    \n",
    "#     label, _ = analyze(nn,LB_N0,UB_N0,0) # Get label of unperturbed image, i.e. eps=0\n",
    "#     start = time.time()\n",
    "#     if method == 'box':\n",
    "#         if(label==int(x0_low[0])):\n",
    "#             LB_N0, UB_N0 = get_perturbed_image(x0_low,epsilon)\n",
    "#             _, verified_flag = analyze_box(nn,LB_N0,UB_N0,label)\n",
    "#             if(verified_flag):\n",
    "#                 print(\"verified\")\n",
    "#             else:\n",
    "#                 print(\"can not be verified\")  \n",
    "#         else:\n",
    "#             print(\"image not correctly classified by the network. expected label \",int(x0_low[0]), \" classified label: \", label)\n",
    "#     if method == 'linear':\n",
    "#         if(label==int(x0_low[0])):\n",
    "#             LB_N0, UB_N0 = get_perturbed_image(x0_low,epsilon)\n",
    "#             _, verified_flag = analyze_linear(nn,LB_N0,UB_N0,label)\n",
    "#             if(verified_flag):\n",
    "#                 print(\"verified\")\n",
    "#             else:\n",
    "#                 print(\"can not be verified\")  \n",
    "#         else:\n",
    "#             print(\"image not correctly classified by the network. expected label \",int(x0_low[0]), \" classified label: \", label)\n",
    "#     end = time.time()\n",
    "#     print(\"analysis time: \", (end-start), \" seconds\")\n",
    "    "
   ]
  },
  {
   "cell_type": "code",
   "execution_count": null,
   "metadata": {},
   "outputs": [],
   "source": [
    "# def compute_rank(nn, rank_threshold, norm=1, skip_first_layer=True, skip_last_layer=True):\n",
    "#     numlayer = nn.numlayer \n",
    "#     norms = np.zeros((nn.weights[1].shape[0], numlayer-2)) # TODO use list or similar if first and last layer are also used\n",
    "#     for layerno in range(numlayer):\n",
    "#         if skip_first_layer and layerno == 0:\n",
    "#             #TODO treat first layer\n",
    "#             continue\n",
    "#         if skip_last_layer and layerno == numlayer-1:\n",
    "#             continue\n",
    "#         if(nn.layertypes[layerno] in ['ReLU', 'Affine']):\n",
    "#             weights = nn.weights[layerno]\n",
    "#             biases = nn.biases[layerno]\n",
    "#             norms[:, layerno-1] = np.linalg.norm(weights, ord=norm, axis=1) + biases\n",
    "#         else:\n",
    "#             print(' net type not supported')\n",
    "    \n",
    "#     rank_idxs = np.argsort(-norms, axis=None)\n",
    "#     rank_idxs = rank_idxs.reshape(nn.weights[1].shape[0], int(len(rank_idxs)/ nn.weights[1].shape[0]))\n",
    "    \n",
    "#     for layerno in range(numlayer):\n",
    "#         if skip_first_layer and layerno == 0:\n",
    "#             continue\n",
    "#         if skip_last_layer and layerno == numlayer-1:\n",
    "#             continue\n",
    "#         if(nn.layertypes[layerno] in ['ReLU', 'Affine']):\n",
    "#             nn.rank[layerno] = rank_idxs[:, layerno-1]\n",
    "#             nn.use_LP[layerno] = nn.rank[layerno]  < rank_threshold\n",
    "#         else:\n",
    "#             print(' net type not supported')"
   ]
  },
  {
   "cell_type": "markdown",
   "metadata": {},
   "source": [
    "## Define ReLU operation on abstract domain"
   ]
  },
  {
   "cell_type": "code",
   "execution_count": 25,
   "metadata": {},
   "outputs": [],
   "source": [
    "def relu_linear(bounds, index):\n",
    "    sup = bounds[index].contents.sup.contents.val.dbl\n",
    "    inf = bounds[index].contents.inf.contents.val.dbl\n",
    "\n",
    "    input_box = elina_box_of_abstract0(abstract)\n",
    "    if(destructive):\n",
    "        a = input_box\n",
    "    else:\n",
    "        a = elina_box_copy(man, input_box)\n",
    "    print(\"[ReLU] Max bound of variable \" + str(index) + \": \" + str(a.sup[index]))\n",
    "    \n",
    "    a.sup[index] = max(0, sup)\n",
    "    a.inf[index] = min(0, inf)\n",
    "    \n",
    "    return "
   ]
  },
  {
   "cell_type": "code",
   "execution_count": null,
   "metadata": {},
   "outputs": [],
   "source": [
    "def relu_linear_layerwise(man, destructive, abstract, start_offset, num_dim):\n",
    "    end = start_offset + num_dim\n",
    "    \n",
    "    # get bounds of the abstract domain\n",
    "    bounds = elina_abstract0_to_box(man, abstract)\n",
    "\n",
    "    # create abstract domain to store the results\n",
    "    if(destructive):\n",
    "        res = abstract\n",
    "    else:\n",
    "        res = elina_abstract0_copy(man, abstract)\n",
    "    \n",
    "    # iterate over each index \n",
    "    for i in range(start_offset, end):\n",
    "        res = relu_linear(bounds, i)\n",
    "    \n",
    "    return res\n",
    "\n",
    "itv = elina_interval_array_alloc(num_pixels)\n",
    "\n",
    "## Populate the interval\n",
    "for i in range(num_pixels):\n",
    "    elina_interval_set_double(itv[i],LB_N0[i],UB_N0[i])\n",
    "\n",
    "## construct input abstraction\n",
    "element = elina_abstract0_of_box(man, 0, num_pixels, itv)"
   ]
  },
  {
   "cell_type": "code",
   "execution_count": null,
   "metadata": {},
   "outputs": [],
   "source": [
    "def get_bounds_using_box(man, weights, biases, previous_bounds, input_pixels):\n",
    "    "
   ]
  },
  {
   "cell_type": "code",
   "execution_count": 26,
   "metadata": {},
   "outputs": [],
   "source": [
    "def get_bounds_using_linear(weights, biases, previous_bounds):"
   ]
  },
  {
   "cell_type": "markdown",
   "metadata": {},
   "source": [
    "# Initialize the problem variables"
   ]
  },
  {
   "cell_type": "code",
   "execution_count": 27,
   "metadata": {},
   "outputs": [],
   "source": [
    "netname = '/home/riai2018/mnist_nets/mnist_relu_3_10.txt'\n",
    "specname = '/home/riai2018/mnist_images/img1.txt'\n",
    "epsilon = 0.001"
   ]
  },
  {
   "cell_type": "code",
   "execution_count": 28,
   "metadata": {},
   "outputs": [],
   "source": [
    "with open(netname, 'r') as netfile:\n",
    "    netstring = netfile.read()\n",
    "with open(specname, 'r') as specfile:\n",
    "    specstring = specfile.read()\n",
    "nn = parse_net(netstring)\n",
    "x0_low, x0_high = parse_spec(specstring)\n",
    "LB_N0, UB_N0 = get_perturbed_image(x0_low,0)"
   ]
  },
  {
   "cell_type": "code",
   "execution_count": 29,
   "metadata": {},
   "outputs": [
    {
     "name": "stdout",
     "output_type": "stream",
     "text": [
      "ReLU\n",
      "ReLU\n",
      "ReLU\n"
     ]
    }
   ],
   "source": [
    "numlayer = nn.numlayer \n",
    "\n",
    "for layerno in range(numlayer):\n",
    "    if(nn.layertypes[layerno] in ['ReLU', 'Affine']):\n",
    "        print(nn.layertypes[layerno])"
   ]
  },
  {
   "cell_type": "markdown",
   "metadata": {},
   "source": [
    "# Get perturbed label (provided prediction for unperturbed is true)"
   ]
  },
  {
   "cell_type": "code",
   "execution_count": 30,
   "metadata": {},
   "outputs": [],
   "source": [
    "label, _ = analyze(nn,LB_N0,UB_N0,0) # Get label of unperturbed image, i.e. eps=0\n",
    "\n",
    "if(label == int(x0_low[0])):\n",
    "    LB_N0, UB_N0 = get_perturbed_image(x0_low,epsilon)\n",
    "else:\n",
    "    print(\"image not correctly classified by the network. expected label \",int(x0_low[0]), \" classified label: \", label)"
   ]
  },
  {
   "cell_type": "markdown",
   "metadata": {},
   "source": [
    "# Start Verification"
   ]
  },
  {
   "cell_type": "markdown",
   "metadata": {},
   "source": [
    "### 1) Define element for the input "
   ]
  },
  {
   "cell_type": "code",
   "execution_count": 31,
   "metadata": {},
   "outputs": [],
   "source": [
    "num_pixels = len(LB_N0)\n",
    "numlayer = nn.numlayer \n",
    "man = elina_box_manager_alloc()\n",
    "itv = elina_interval_array_alloc(num_pixels)\n",
    "\n",
    "## Populate the interval\n",
    "for i in range(num_pixels):\n",
    "    elina_interval_set_double(itv[i],LB_N0[i],UB_N0[i])\n",
    "\n",
    "## construct input abstraction\n",
    "element = elina_abstract0_of_box(man, 0, num_pixels, itv)\n",
    "elina_interval_array_free(itv,num_pixels)"
   ]
  },
  {
   "cell_type": "markdown",
   "metadata": {},
   "source": [
    "### 2) Iterate over each layer in the network and define the neural network function"
   ]
  },
  {
   "cell_type": "code",
   "execution_count": 32,
   "metadata": {},
   "outputs": [
    {
     "name": "stdout",
     "output_type": "stream",
     "text": [
      "[Element] Int dimensions: 0\n",
      "[Element] Real dimensions: 784\n",
      "[Network] Shape of weights: (10, 784)\n",
      "[Network] Shape of biases: (10,)\n",
      "[Network] Out pixels: 10\n"
     ]
    },
    {
     "ename": "NameError",
     "evalue": "name 'elina_box_of_abstract0' is not defined",
     "output_type": "error",
     "traceback": [
      "\u001b[0;31m---------------------------------------------------------------------------\u001b[0m",
      "\u001b[0;31mNameError\u001b[0m                                 Traceback (most recent call last)",
      "\u001b[0;32m<ipython-input-32-07664382f8fd>\u001b[0m in \u001b[0;36m<module>\u001b[0;34m\u001b[0m\n\u001b[1;32m     54\u001b[0m \u001b[0;34m\u001b[0m\u001b[0m\n\u001b[1;32m     55\u001b[0m         \u001b[0;31m# handle ReLU layer\u001b[0m\u001b[0;34m\u001b[0m\u001b[0;34m\u001b[0m\u001b[0;34m\u001b[0m\u001b[0m\n\u001b[0;32m---> 56\u001b[0;31m         \u001b[0melement\u001b[0m \u001b[0;34m=\u001b[0m \u001b[0mrelu_linear_layerwise\u001b[0m\u001b[0;34m(\u001b[0m\u001b[0mman\u001b[0m\u001b[0;34m,\u001b[0m\u001b[0;32mTrue\u001b[0m\u001b[0;34m,\u001b[0m\u001b[0melement\u001b[0m\u001b[0;34m,\u001b[0m\u001b[0;36m0\u001b[0m\u001b[0;34m,\u001b[0m \u001b[0mnum_out_pixels\u001b[0m\u001b[0;34m)\u001b[0m\u001b[0;34m\u001b[0m\u001b[0;34m\u001b[0m\u001b[0m\n\u001b[0m\u001b[1;32m     57\u001b[0m \u001b[0;34m\u001b[0m\u001b[0m\n\u001b[1;32m     58\u001b[0m         \u001b[0;31m# Iterate to next layer\u001b[0m\u001b[0;34m\u001b[0m\u001b[0;34m\u001b[0m\u001b[0;34m\u001b[0m\u001b[0m\n",
      "\u001b[0;32m<ipython-input-26-3b622b2a6b41>\u001b[0m in \u001b[0;36mrelu_linear_layerwise\u001b[0;34m(man, destructive, abstract, start_offset, num_dim)\u001b[0m\n\u001b[1;32m     10\u001b[0m     \u001b[0;31m# iterate over each index\u001b[0m\u001b[0;34m\u001b[0m\u001b[0;34m\u001b[0m\u001b[0;34m\u001b[0m\u001b[0m\n\u001b[1;32m     11\u001b[0m     \u001b[0;32mfor\u001b[0m \u001b[0mi\u001b[0m \u001b[0;32min\u001b[0m \u001b[0mrange\u001b[0m\u001b[0;34m(\u001b[0m\u001b[0mstart_offset\u001b[0m\u001b[0;34m,\u001b[0m \u001b[0mend\u001b[0m\u001b[0;34m)\u001b[0m\u001b[0;34m:\u001b[0m\u001b[0;34m\u001b[0m\u001b[0;34m\u001b[0m\u001b[0m\n\u001b[0;32m---> 12\u001b[0;31m         \u001b[0mres\u001b[0m \u001b[0;34m=\u001b[0m \u001b[0mrelu_linear\u001b[0m\u001b[0;34m(\u001b[0m\u001b[0mman\u001b[0m\u001b[0;34m,\u001b[0m \u001b[0;32mTrue\u001b[0m\u001b[0;34m,\u001b[0m \u001b[0mres\u001b[0m\u001b[0;34m,\u001b[0m \u001b[0mi\u001b[0m\u001b[0;34m)\u001b[0m\u001b[0;34m\u001b[0m\u001b[0;34m\u001b[0m\u001b[0m\n\u001b[0m\u001b[1;32m     13\u001b[0m \u001b[0;34m\u001b[0m\u001b[0m\n\u001b[1;32m     14\u001b[0m     \u001b[0;32mreturn\u001b[0m \u001b[0mres\u001b[0m\u001b[0;34m\u001b[0m\u001b[0;34m\u001b[0m\u001b[0m\n",
      "\u001b[0;32m<ipython-input-25-76f45dc22df7>\u001b[0m in \u001b[0;36mrelu_linear\u001b[0;34m(man, destructive, abstract, index)\u001b[0m\n\u001b[1;32m      1\u001b[0m \u001b[0;32mdef\u001b[0m \u001b[0mrelu_linear\u001b[0m\u001b[0;34m(\u001b[0m\u001b[0mman\u001b[0m\u001b[0;34m,\u001b[0m \u001b[0mdestructive\u001b[0m\u001b[0;34m,\u001b[0m \u001b[0mabstract\u001b[0m\u001b[0;34m,\u001b[0m \u001b[0mindex\u001b[0m\u001b[0;34m)\u001b[0m\u001b[0;34m:\u001b[0m\u001b[0;34m\u001b[0m\u001b[0;34m\u001b[0m\u001b[0m\n\u001b[0;32m----> 2\u001b[0;31m     \u001b[0minput_box\u001b[0m \u001b[0;34m=\u001b[0m \u001b[0melina_box_of_abstract0\u001b[0m\u001b[0;34m(\u001b[0m\u001b[0mabstract\u001b[0m\u001b[0;34m)\u001b[0m\u001b[0;34m\u001b[0m\u001b[0;34m\u001b[0m\u001b[0m\n\u001b[0m\u001b[1;32m      3\u001b[0m     \u001b[0;32mif\u001b[0m\u001b[0;34m(\u001b[0m\u001b[0mdestructive\u001b[0m\u001b[0;34m)\u001b[0m\u001b[0;34m:\u001b[0m\u001b[0;34m\u001b[0m\u001b[0;34m\u001b[0m\u001b[0m\n\u001b[1;32m      4\u001b[0m         \u001b[0ma\u001b[0m \u001b[0;34m=\u001b[0m \u001b[0minput_box\u001b[0m\u001b[0;34m\u001b[0m\u001b[0;34m\u001b[0m\u001b[0m\n\u001b[1;32m      5\u001b[0m     \u001b[0;32melse\u001b[0m\u001b[0;34m:\u001b[0m\u001b[0;34m\u001b[0m\u001b[0;34m\u001b[0m\u001b[0m\n",
      "\u001b[0;31mNameError\u001b[0m: name 'elina_box_of_abstract0' is not defined"
     ]
    }
   ],
   "source": [
    "nn.ffn_counter = 0\n",
    "\n",
    "for layerno in range(numlayer):\n",
    "    if(nn.layertypes[layerno] in ['ReLU', 'Affine']):\n",
    "        # read the layer weights and biases\n",
    "        weights = nn.weights[nn.ffn_counter]\n",
    "        biases = nn.biases[nn.ffn_counter]\n",
    "        np.ascontiguousarray(weights, dtype=np.double)\n",
    "        np.ascontiguousarray(biases, dtype=np.double)\n",
    "        \n",
    "        # extract dimensions of the element\n",
    "        dims = elina_abstract0_dimension(man,element)\n",
    "        num_in_pixels = dims.intdim + dims.realdim\n",
    "        print(\"[Element] Int dimensions: \" + str(dims.intdim))\n",
    "        print(\"[Element] Real dimensions: \" + str(dims.realdim))\n",
    "    \n",
    "        # calculate number of outputs\n",
    "        num_out_pixels = len(weights)\n",
    "        print(\"[Network] Shape of weights: \" + str(np.shape(weights)))\n",
    "        print(\"[Network] Shape of biases: \" + str(np.shape(biases)))\n",
    "        print(\"[Network] Out pixels: \" + str(num_out_pixels))\n",
    "\n",
    "        ## Add the layer element to the manager \n",
    "        \n",
    "        #  a) Create number of neurons in that layer and populate it\n",
    "        # with the number of inputs to each neuron in the layer\n",
    "        dimadd = elina_dimchange_alloc(0,num_out_pixels)    \n",
    "        for i in range(num_out_pixels):\n",
    "            dimadd.contents.dim[i] = num_in_pixels\n",
    "        \n",
    "        # b) Add dimensions to an ElinaAbstract0 pointer i.e. element\n",
    "        elina_abstract0_add_dimensions(man, True, element, dimadd, False)\n",
    "        elina_dimchange_free(dimadd)\n",
    "        \n",
    "        \n",
    "        # handle affine layer\n",
    "        var = num_in_pixels\n",
    "        for i in range(num_out_pixels):\n",
    "            # Array of ElinaDim that need to be assigned\n",
    "            tdim= ElinaDim(var)\n",
    "            # Create the linear expression associated to the neuron i\n",
    "            linexpr0 = generate_linexpr0(weights[i], biases[i], num_in_pixels)\n",
    "            # Parallel assignment of several dimensions of an ElinaAbstract0 by using an ElinaLinexpr0Array\n",
    "            element = elina_abstract0_assign_linexpr_array(man, True, element, tdim, linexpr0, 1, None)\n",
    "            var+=1\n",
    "\n",
    "        # Pointer to which semantics we want to follow.\n",
    "        dimrem = elina_dimchange_alloc(0,num_in_pixels)\n",
    "        for i in range(num_in_pixels):\n",
    "            dimrem.contents.dim[i] = i\n",
    "        # Remove dimensions from an ElinaAbstract0\n",
    "        elina_abstract0_remove_dimensions(man, True, element, dimrem)\n",
    "        elina_dimchange_free(dimrem)\n",
    "        \n",
    "        # handle ReLU layer \n",
    "        element = relu_linear_layerwise(man,True,element,0, num_out_pixels)\n",
    "        \n",
    "        # Iterate to next layer\n",
    "        nn.ffn_counter+=1 \n",
    "        \n",
    "        print('---------------')\n",
    "\n",
    "    else:\n",
    "        print(' net type not supported')"
   ]
  },
  {
   "cell_type": "markdown",
   "metadata": {},
   "source": [
    "### 3) Compute the bounds "
   ]
  },
  {
   "cell_type": "code",
   "execution_count": 32,
   "metadata": {},
   "outputs": [],
   "source": [
    "dims = elina_abstract0_dimension(man,element)\n",
    "output_size = dims.intdim + dims.realdim\n",
    "# get bounds for each output neuron\n",
    "bounds = elina_abstract0_to_box(man,element)"
   ]
  },
  {
   "cell_type": "markdown",
   "metadata": {},
   "source": [
    "## Check the verifiability of the network"
   ]
  },
  {
   "cell_type": "code",
   "execution_count": 33,
   "metadata": {},
   "outputs": [],
   "source": [
    "# if epsilon is zero, try to classify else verify robustness \n",
    "verified_flag = True\n",
    "predicted_label = 0\n",
    "if(LB_N0[0]==UB_N0[0]):\n",
    "    for i in range(output_size):\n",
    "        inf = bounds[i].contents.inf.contents.val.dbl\n",
    "        flag = True\n",
    "        for j in range(output_size):\n",
    "            if(j!=i):\n",
    "                sup = bounds[j].contents.sup.contents.val.dbl\n",
    "                if(inf<=sup):\n",
    "                    flag = False\n",
    "                    break\n",
    "        if(flag):\n",
    "            predicted_label = i\n",
    "            break    \n",
    "else:\n",
    "    inf = bounds[label].contents.inf.contents.val.dbl\n",
    "    for j in range(output_size):\n",
    "        if(j!=label):\n",
    "            sup = bounds[j].contents.sup.contents.val.dbl\n",
    "            if(inf<=sup):\n",
    "                predicted_label = label\n",
    "                verified_flag = False\n",
    "                break\n",
    "\n",
    "elina_interval_array_free(bounds,output_size)\n",
    "elina_abstract0_free(man,element)\n",
    "elina_manager_free(man)   "
   ]
  },
  {
   "cell_type": "markdown",
   "metadata": {},
   "source": [
    "# Check status "
   ]
  },
  {
   "cell_type": "code",
   "execution_count": 34,
   "metadata": {},
   "outputs": [
    {
     "name": "stdout",
     "output_type": "stream",
     "text": [
      "verified\n"
     ]
    }
   ],
   "source": [
    "if(verified_flag):\n",
    "    print(\"verified\")\n",
    "else:\n",
    "    print(\"can not be verified\")  "
   ]
  }
 ],
 "metadata": {
  "kernelspec": {
   "display_name": "Python 3",
   "language": "python",
   "name": "python3"
  },
  "language_info": {
   "codemirror_mode": {
    "name": "ipython",
    "version": 3
   },
   "file_extension": ".py",
   "mimetype": "text/x-python",
   "name": "python",
   "nbconvert_exporter": "python",
   "pygments_lexer": "ipython3",
   "version": "3.6.7"
  }
 },
 "nbformat": 4,
 "nbformat_minor": 2
}
